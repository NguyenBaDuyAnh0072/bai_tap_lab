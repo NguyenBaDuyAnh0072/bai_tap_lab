{
 "cells": [
  {
   "cell_type": "code",
   "execution_count": 3,
   "metadata": {},
   "outputs": [
    {
     "name": "stdout",
     "output_type": "stream",
     "text": [
      "Mảng nhiệt độ hàng ngày trong một tháng là:\n",
      " [12.56 33.28 30.01 22.97 19.38 21.42 26.85 17.83 30.62 19.65 29.95  6.27\n",
      " 28.55  8.91 16.76 18.85 15.88 27.27 21.92 11.86 21.8  24.1  10.56 17.83\n",
      " 17.93 28.44 22.02 20.37 22.43 17.26]\n",
      "nhiet do trung binh :20.784333333333333\n"
     ]
    }
   ],
   "source": [
    "import numpy as np\n",
    "# Tạo mảng Numpy mô phỏng dữ liệu nhiệt độ hàng ngày trong một tháng\n",
    "temperature = np.random.normal(loc=20, scale=7, size=30)\n",
    "temperature= np.round(temperature,2)\n",
    "print(\"Mảng nhiệt độ hàng ngày trong một tháng là:\\n\",temperature)\n",
    "\n",
    "temp_tb = np.mean(temperature)\n",
    "print(f\"nhiet do trung binh :{temp_tb}\")\n"
   ]
  },
  {
   "cell_type": "code",
   "execution_count": null,
   "metadata": {},
   "outputs": [],
   "source": []
  },
  {
   "cell_type": "code",
   "execution_count": 4,
   "metadata": {},
   "outputs": [
    {
     "name": "stdout",
     "output_type": "stream",
     "text": [
      "[ 6.27  8.91 10.56 11.86 12.56 15.88 16.76 17.26 17.83 17.83 17.93 18.85\n",
      " 19.38 19.65 20.37 21.42 21.8  21.92 22.02 22.43 22.97 24.1  26.85 27.27\n",
      " 28.44 28.55 29.95 30.01 30.62 33.28]\n",
      "ngay co nhiet do cao nhat :33.28 *C\n",
      "ngay co nhiet do thap nhat :6.27 *C\n",
      "ngay co nhiet do thap nhat la ngay thu:12\n",
      "ngay co nhiet do cao nhat la ngay thu:2\n"
     ]
    }
   ],
   "source": [
    "# 2.1:\n",
    "sort_temp = np.sort(temperature)\n",
    "print(sort_temp)\n",
    "temp_max = sort_temp[-1]\n",
    "print(f\"ngay co nhiet do cao nhat :{temp_max} *C\")\n",
    "temp_min = sort_temp[0]\n",
    "print(f\"ngay co nhiet do thap nhat :{temp_min} *C\")\n",
    "\n",
    "temp_max_day =np.where(temperature ==sort_temp[-1])[0][0] +1\n",
    "temp_min_day = np.where(temperature ==sort_temp[0])[0][0] +1\n",
    "print(f\"ngay co nhiet do thap nhat la ngay thu:{temp_min_day}\")\n",
    "print(f\"ngay co nhiet do cao nhat la ngay thu:{temp_max_day}\")\n"
   ]
  },
  {
   "cell_type": "code",
   "execution_count": null,
   "metadata": {},
   "outputs": [],
   "source": []
  },
  {
   "cell_type": "code",
   "execution_count": 24,
   "metadata": {},
   "outputs": [
    {
     "name": "stdout",
     "output_type": "stream",
     "text": [
      "cac ngay hon 20 *C la:[25.15, 31.56, 25.9, 23.85, 29.14, 26.83, 26.94, 28.09, 28.25, 27.37, 23.11, 25.35, 20.28, 27.76, 28.48, 22.42, 28.89, 24.48, 23.41, 27.59, 25.43, 26.1, 28.22, 23.77, 28.72]\n"
     ]
    }
   ],
   "source": [
    "# 3:\n",
    "temp_than_20 = [i for i in temperature if i> 20]\n",
    "print(f\"cac ngay hon 20 *C la:{temp_than_20}\")"
   ]
  }
 ],
 "metadata": {
  "kernelspec": {
   "display_name": "base",
   "language": "python",
   "name": "python3"
  },
  "language_info": {
   "codemirror_mode": {
    "name": "ipython",
    "version": 3
   },
   "file_extension": ".py",
   "mimetype": "text/x-python",
   "name": "python",
   "nbconvert_exporter": "python",
   "pygments_lexer": "ipython3",
   "version": "3.11.4"
  }
 },
 "nbformat": 4,
 "nbformat_minor": 2
}
