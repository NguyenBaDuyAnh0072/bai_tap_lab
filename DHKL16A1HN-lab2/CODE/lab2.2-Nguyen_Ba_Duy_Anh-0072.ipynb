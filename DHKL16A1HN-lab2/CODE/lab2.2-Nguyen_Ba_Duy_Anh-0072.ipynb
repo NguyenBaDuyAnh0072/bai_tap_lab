{
 "cells": [
  {
   "cell_type": "code",
   "execution_count": 1,
   "metadata": {},
   "outputs": [
    {
     "name": "stdout",
     "output_type": "stream",
     "text": [
      "[['id', 'Tên sinh viên', 'HP 1', 'HP 2', 'HP 3'], ['1', 'Nguyễn Văn Bình', '3.04', '3.39', '6.7'], ['2', 'Lê Thị Na', '5.8', '6.41', '6.62'], ['3', 'Trần Văn Thành', '2.59', '3.57', '9.16'], ['4', 'Phạm Thị Hồng', '3.81', '8.78', '9.24'], ['5', 'Bùi Văn An', '8.91', '9.64', '6.39'], ['6', 'Hoàng Thị Lan', '3.23', '4.72', '6.17'], ['7', 'Vũ Văn Hùng', '2.35', '3.29', '6.89'], ['8', 'Đặng Thị Mai', '2.48', '3.81', '4.84'], ['9', 'Đỗ Văn Hải', '3.23', '2.61', '4.52'], ['10', 'Ngô Thị Thanh', '7.02', '9.01', '9.15'], ['11', 'Lương Văn Dũng', '2.29', '4.48', '5.51'], ['12', 'Mai Thị Hằng', '3.51', '7.19', '5.13'], ['13', 'Dương Văn Long', '6.74', '7.78', '6.19'], ['14', 'Nguyễn Thị Hà', '9.86', '4.64', '3.33'], ['15', 'Trần Văn Tuấn', '8.04', '5.12', '4.77'], ['16', 'Lê Văn Phúc', '2.74', '8.88', '5.8'], ['17', 'Phạm Thị Nhung', '3.04', '6.88', '3.91'], ['18', 'Hoàng Văn Nam', '5.87', '4.41', '8.84'], ['19', 'Bùi Thị Lan', '8.46', '2.63', '4.91'], ['20', 'Vũ Thị Thanh', '3.74', '6.71', '3.44'], ['21', 'Đặng Văn Hùng', '5.67', '8.05', '6.03'], ['22', 'Đỗ Thị Hồng', '8.12', '2.46', '3.87'], ['23', 'Ngô Văn Thành', '9.4', '5.31', '5.13'], ['24', 'Lương Thị Mai', '3.91', '5.09', '8.82'], ['25', 'Mai Văn Dũng', '4.26', '5.78', '8.14'], ['26', 'Dương Thị Hằng', '4.41', '2.66', '5.4'], ['27', 'Nguyễn Văn Long', '3.23', '8.3', '8.64'], ['28', 'Trần Thị Hà', '9.25', '8.29', '9.1'], ['29', 'Lê Văn Tuấn', '6.08', '2.67', '6.39'], ['30', 'Phạm Thị Phúc', '3.85', '7.71', '5.75']]\n"
     ]
    }
   ],
   "source": [
    "import numpy as np\n",
    "import csv\n",
    "\n",
    "lst=[]\n",
    "with open(\"diem_hoc_phan.csv\",'r',encoding='utf-8') as f:\n",
    "    reader = csv.reader(f,delimiter=',')\n",
    "    for _ in reader:\n",
    "        lst.append(_)\n",
    "print(lst)"
   ]
  },
  {
   "cell_type": "code",
   "execution_count": 6,
   "metadata": {},
   "outputs": [
    {
     "name": "stdout",
     "output_type": "stream",
     "text": [
      "[['1' 'Nguyễn Văn Bình' '3.04' '3.39' '6.7']\n",
      " ['2' 'Lê Thị Na' '5.8' '6.41' '6.62']\n",
      " ['3' 'Trần Văn Thành' '2.59' '3.57' '9.16']\n",
      " ['4' 'Phạm Thị Hồng' '3.81' '8.78' '9.24']\n",
      " ['5' 'Bùi Văn An' '8.91' '9.64' '6.39']\n",
      " ['6' 'Hoàng Thị Lan' '3.23' '4.72' '6.17']\n",
      " ['7' 'Vũ Văn Hùng' '2.35' '3.29' '6.89']\n",
      " ['8' 'Đặng Thị Mai' '2.48' '3.81' '4.84']\n",
      " ['9' 'Đỗ Văn Hải' '3.23' '2.61' '4.52']\n",
      " ['10' 'Ngô Thị Thanh' '7.02' '9.01' '9.15']\n",
      " ['11' 'Lương Văn Dũng' '2.29' '4.48' '5.51']\n",
      " ['12' 'Mai Thị Hằng' '3.51' '7.19' '5.13']\n",
      " ['13' 'Dương Văn Long' '6.74' '7.78' '6.19']\n",
      " ['14' 'Nguyễn Thị Hà' '9.86' '4.64' '3.33']\n",
      " ['15' 'Trần Văn Tuấn' '8.04' '5.12' '4.77']\n",
      " ['16' 'Lê Văn Phúc' '2.74' '8.88' '5.8']\n",
      " ['17' 'Phạm Thị Nhung' '3.04' '6.88' '3.91']\n",
      " ['18' 'Hoàng Văn Nam' '5.87' '4.41' '8.84']\n",
      " ['19' 'Bùi Thị Lan' '8.46' '2.63' '4.91']\n",
      " ['20' 'Vũ Thị Thanh' '3.74' '6.71' '3.44']\n",
      " ['21' 'Đặng Văn Hùng' '5.67' '8.05' '6.03']\n",
      " ['22' 'Đỗ Thị Hồng' '8.12' '2.46' '3.87']\n",
      " ['23' 'Ngô Văn Thành' '9.4' '5.31' '5.13']\n",
      " ['24' 'Lương Thị Mai' '3.91' '5.09' '8.82']\n",
      " ['25' 'Mai Văn Dũng' '4.26' '5.78' '8.14']\n",
      " ['26' 'Dương Thị Hằng' '4.41' '2.66' '5.4']\n",
      " ['27' 'Nguyễn Văn Long' '3.23' '8.3' '8.64']\n",
      " ['28' 'Trần Thị Hà' '9.25' '8.29' '9.1']\n",
      " ['29' 'Lê Văn Tuấn' '6.08' '2.67' '6.39']\n",
      " ['30' 'Phạm Thị Phúc' '3.85' '7.71' '5.75']]\n"
     ]
    }
   ],
   "source": [
    "# 1:\n",
    "hoc_phan = np.array(lst)\n",
    "hoc_phan = np.delete(hoc_phan,0,axis=0)\n",
    "print(hoc_phan)"
   ]
  }
 ],
 "metadata": {
  "kernelspec": {
   "display_name": "base",
   "language": "python",
   "name": "python3"
  },
  "language_info": {
   "codemirror_mode": {
    "name": "ipython",
    "version": 3
   },
   "file_extension": ".py",
   "mimetype": "text/x-python",
   "name": "python",
   "nbconvert_exporter": "python",
   "pygments_lexer": "ipython3",
   "version": "3.11.4"
  }
 },
 "nbformat": 4,
 "nbformat_minor": 2
}
