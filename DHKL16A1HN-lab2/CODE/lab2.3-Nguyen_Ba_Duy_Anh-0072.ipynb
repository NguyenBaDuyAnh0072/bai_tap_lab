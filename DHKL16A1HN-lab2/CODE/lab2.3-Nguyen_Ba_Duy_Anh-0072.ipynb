{
 "cells": [
  {
   "cell_type": "code",
   "execution_count": 2,
   "metadata": {},
   "outputs": [
    {
     "name": "stdout",
     "output_type": "stream",
     "text": [
      "[94, 97, 114, 117, 117, 59, 133, 71, 86, 137, 120, 138, 138, 62, 108, 115, 89, 137, 96, 138, 131, 87, 75, 127, 122, 59, 70, 130, 119, 129, 97, 114, 132, 149, 138, 99, 79, 69, 69, 64, 89, 82, 115, 59, 107, 82, 81, 124, 73, 85, 125, 105, 78, 84, 50, 50, 86, 103, 55, 88, 67, 129, 54, 92, 108, 81, 51, 115, 91, 107, 85, 61, 96, 132, 141, 50, 64, 149, 103, 62, 92, 134, 125, 118, 56, 118, 97, 53, 126, 102, 128, 65, 70, 149, 108, 73, 129, 63, 135, 98]\n",
      "\n",
      "['Afternoon', 'Afternoon', 'Afternoon', 'Morning', 'Afternoon', 'Night', 'Morning', 'Afternoon', 'Night', 'Morning', 'Night', 'Morning', 'Afternoon', 'Night', 'Night', 'Afternoon', 'Morning', 'Afternoon', 'Afternoon', 'Morning', 'Night', 'Night', 'Night', 'Night', 'Afternoon', 'Night', 'Night', 'Night', 'Night', 'Night', 'Morning', 'Afternoon', 'Night', 'Night', 'Afternoon', 'Night', 'Afternoon', 'Morning', 'Night', 'Night', 'Morning', 'Night', 'Morning', 'Morning', 'Night', 'Morning', 'Night', 'Night', 'Night', 'Morning', 'Morning', 'Morning', 'Afternoon', 'Night', 'Morning', 'Afternoon', 'Night', 'Night', 'Night', 'Afternoon', 'Morning', 'Morning', 'Morning', 'Morning', 'Night', 'Night', 'Morning', 'Morning', 'Morning', 'Afternoon', 'Night', 'Morning', 'Morning', 'Afternoon', 'Morning', 'Night', 'Afternoon', 'Afternoon', 'Afternoon', 'Morning', 'Morning', 'Morning', 'Afternoon', 'Afternoon', 'Night', 'Afternoon', 'Morning', 'Morning', 'Afternoon', 'Night', 'Afternoon', 'Afternoon', 'Afternoon', 'Morning', 'Morning', 'Morning', 'Afternoon', 'Night', 'Afternoon', 'Afternoon']\n"
     ]
    }
   ],
   "source": [
    "import numpy as np\n",
    "effieiency=[]\n",
    "shifts=[]\n",
    "with open(\"efficiency.txt\",'r',encoding=\"utf-8\") as f:\n",
    "    reader = f.read().split()\n",
    "    for i in reader:\n",
    "        effieiency.append(int(i))\n",
    "\n",
    "with open(\"shifts.txt\",'r',encoding=\"utf-8\") as f_:\n",
    "    reader_ = f_.read().split()\n",
    "    for j in reader_:\n",
    "        shifts.append(j)\n",
    "        "
   ]
  },
  {
   "cell_type": "code",
   "execution_count": 16,
   "metadata": {},
   "outputs": [
    {
     "name": "stdout",
     "output_type": "stream",
     "text": [
      "['Afternoon' 'Afternoon' 'Afternoon' 'Morning' 'Afternoon' 'Night'\n",
      " 'Morning' 'Afternoon' 'Night' 'Morning' 'Night' 'Morning' 'Afternoon'\n",
      " 'Night' 'Night' 'Afternoon' 'Morning' 'Afternoon' 'Afternoon' 'Morning'\n",
      " 'Night' 'Night' 'Night' 'Night' 'Afternoon' 'Night' 'Night' 'Night'\n",
      " 'Night' 'Night' 'Morning' 'Afternoon' 'Night' 'Night' 'Afternoon' 'Night'\n",
      " 'Afternoon' 'Morning' 'Night' 'Night' 'Morning' 'Night' 'Morning'\n",
      " 'Morning' 'Night' 'Morning' 'Night' 'Night' 'Night' 'Morning' 'Morning'\n",
      " 'Morning' 'Afternoon' 'Night' 'Morning' 'Afternoon' 'Night' 'Night'\n",
      " 'Night' 'Afternoon' 'Morning' 'Morning' 'Morning' 'Morning' 'Night'\n",
      " 'Night' 'Morning' 'Morning' 'Morning' 'Afternoon' 'Night' 'Morning'\n",
      " 'Morning' 'Afternoon' 'Morning' 'Night' 'Afternoon' 'Afternoon'\n",
      " 'Afternoon' 'Morning' 'Morning' 'Morning' 'Afternoon' 'Afternoon' 'Night'\n",
      " 'Afternoon' 'Morning' 'Morning' 'Afternoon' 'Night' 'Afternoon'\n",
      " 'Afternoon' 'Afternoon' 'Morning' 'Morning' 'Morning' 'Afternoon' 'Night'\n",
      " 'Afternoon' 'Afternoon']\n",
      "<U9\n",
      "[ 94  97 114 117 117  59 133  71  86 137 120 138 138  62 108 115  89 137\n",
      "  96 138 131  87  75 127 122  59  70 130 119 129  97 114 132 149 138  99\n",
      "  79  69  69  64  89  82 115  59 107  82  81 124  73  85 125 105  78  84\n",
      "  50  50  86 103  55  88  67 129  54  92 108  81  51 115  91 107  85  61\n",
      "  96 132 141  50  64 149 103  62  92 134 125 118  56 118  97  53 126 102\n",
      " 128  65  70 149 108  73 129  63 135  98]\n",
      "int32\n",
      "hieu suat ca lam viec sang:\n",
      " [117 133 137 138  89 138  97  69  89 115  59  82  85 125 105  50  67 129\n",
      "  54  92  51 115  91  61  96 141  62  92 134  97  53 149 108  73]\n",
      "hieu suat trung binh cua ca lam viec sang: 96.8529411764706\n",
      "hieu suat trung binh cua ca lam viec khac (k phai mornig): 98.93939393939394\n"
     ]
    }
   ],
   "source": [
    "np_shifts = np.array(shifts)\n",
    "print(np_shifts)\n",
    "print(np_shifts.dtype)\n",
    "\n",
    "np_efficiency = np.array(effieiency)\n",
    "print(np_efficiency)\n",
    "print(np_efficiency.dtype)\n",
    "\n",
    "# \n",
    "np_efficiency_morning = np_efficiency[np_shifts == \"Morning\"]\n",
    "print('hieu suat ca lam viec sang:\\n',np_efficiency_morning)\n",
    "print(\"hieu suat trung binh cua ca lam viec sang:\",np.mean(np_efficiency_morning))\n",
    "\n",
    "\n",
    "np_efficiency_diff = np_efficiency[np_shifts != \"Morning\"]\n",
    "print(\"hieu suat trung binh cua ca lam viec khac (k phai mornig):\",np.mean(np_efficiency_diff))\n"
   ]
  },
  {
   "cell_type": "code",
   "execution_count": 23,
   "metadata": {},
   "outputs": [
    {
     "name": "stdout",
     "output_type": "stream",
     "text": [
      "[('Afternoon',  94.) ('Afternoon',  97.) ('Afternoon', 114.)\n",
      " ('Morning', 117.) ('Afternoon', 117.) ('Night',  59.) ('Morning', 133.)\n",
      " ('Afternoon',  71.) ('Night',  86.) ('Morning', 137.) ('Night', 120.)\n",
      " ('Morning', 138.) ('Afternoon', 138.) ('Night',  62.) ('Night', 108.)\n",
      " ('Afternoon', 115.) ('Morning',  89.) ('Afternoon', 137.)\n",
      " ('Afternoon',  96.) ('Morning', 138.) ('Night', 131.) ('Night',  87.)\n",
      " ('Night',  75.) ('Night', 127.) ('Afternoon', 122.) ('Night',  59.)\n",
      " ('Night',  70.) ('Night', 130.) ('Night', 119.) ('Night', 129.)\n",
      " ('Morning',  97.) ('Afternoon', 114.) ('Night', 132.) ('Night', 149.)\n",
      " ('Afternoon', 138.) ('Night',  99.) ('Afternoon',  79.) ('Morning',  69.)\n",
      " ('Night',  69.) ('Night',  64.) ('Morning',  89.) ('Night',  82.)\n",
      " ('Morning', 115.) ('Morning',  59.) ('Night', 107.) ('Morning',  82.)\n",
      " ('Night',  81.) ('Night', 124.) ('Night',  73.) ('Morning',  85.)\n",
      " ('Morning', 125.) ('Morning', 105.) ('Afternoon',  78.) ('Night',  84.)\n",
      " ('Morning',  50.) ('Afternoon',  50.) ('Night',  86.) ('Night', 103.)\n",
      " ('Night',  55.) ('Afternoon',  88.) ('Morning',  67.) ('Morning', 129.)\n",
      " ('Morning',  54.) ('Morning',  92.) ('Night', 108.) ('Night',  81.)\n",
      " ('Morning',  51.) ('Morning', 115.) ('Morning',  91.) ('Afternoon', 107.)\n",
      " ('Night',  85.) ('Morning',  61.) ('Morning',  96.) ('Afternoon', 132.)\n",
      " ('Morning', 141.) ('Night',  50.) ('Afternoon',  64.) ('Afternoon', 149.)\n",
      " ('Afternoon', 103.) ('Morning',  62.) ('Morning',  92.) ('Morning', 134.)\n",
      " ('Afternoon', 125.) ('Afternoon', 118.) ('Night',  56.)\n",
      " ('Afternoon', 118.) ('Morning',  97.) ('Morning',  53.)\n",
      " ('Afternoon', 126.) ('Night', 102.) ('Afternoon', 128.)\n",
      " ('Afternoon',  65.) ('Afternoon',  70.) ('Morning', 149.)\n",
      " ('Morning', 108.) ('Morning',  73.) ('Afternoon', 129.) ('Night',  63.)\n",
      " ('Afternoon', 135.) ('Afternoon',  98.)]\n"
     ]
    }
   ],
   "source": [
    "dtype = [(\"shifts\",\"U10\"),(\"efficiency\",float)]\n",
    "np_workers = np.zeros(len(shifts),dtype=dtype)\n",
    "np_workers[\"shifts\"] = np_shifts\n",
    "np_workers[\"efficiency\"] = np_efficiency\n",
    "print(np_workers)\n"
   ]
  },
  {
   "cell_type": "code",
   "execution_count": 27,
   "metadata": {},
   "outputs": [
    {
     "name": "stdout",
     "output_type": "stream",
     "text": [
      "[('Afternoon',  50.) ('Morning',  50.) ('Night',  50.) ('Morning',  51.)\n",
      " ('Morning',  53.) ('Morning',  54.) ('Night',  55.) ('Night',  56.)\n",
      " ('Morning',  59.) ('Night',  59.) ('Night',  59.) ('Morning',  61.)\n",
      " ('Morning',  62.) ('Night',  62.) ('Night',  63.) ('Afternoon',  64.)\n",
      " ('Night',  64.) ('Afternoon',  65.) ('Morning',  67.) ('Morning',  69.)\n",
      " ('Night',  69.) ('Afternoon',  70.) ('Night',  70.) ('Afternoon',  71.)\n",
      " ('Morning',  73.) ('Night',  73.) ('Night',  75.) ('Afternoon',  78.)\n",
      " ('Afternoon',  79.) ('Night',  81.) ('Night',  81.) ('Morning',  82.)\n",
      " ('Night',  82.) ('Night',  84.) ('Morning',  85.) ('Night',  85.)\n",
      " ('Night',  86.) ('Night',  86.) ('Night',  87.) ('Afternoon',  88.)\n",
      " ('Morning',  89.) ('Morning',  89.) ('Morning',  91.) ('Morning',  92.)\n",
      " ('Morning',  92.) ('Afternoon',  94.) ('Afternoon',  96.)\n",
      " ('Morning',  96.) ('Afternoon',  97.) ('Morning',  97.) ('Morning',  97.)\n",
      " ('Afternoon',  98.) ('Night',  99.) ('Night', 102.) ('Afternoon', 103.)\n",
      " ('Night', 103.) ('Morning', 105.) ('Afternoon', 107.) ('Night', 107.)\n",
      " ('Morning', 108.) ('Night', 108.) ('Night', 108.) ('Afternoon', 114.)\n",
      " ('Afternoon', 114.) ('Afternoon', 115.) ('Morning', 115.)\n",
      " ('Morning', 115.) ('Afternoon', 117.) ('Morning', 117.)\n",
      " ('Afternoon', 118.) ('Afternoon', 118.) ('Night', 119.) ('Night', 120.)\n",
      " ('Afternoon', 122.) ('Night', 124.) ('Afternoon', 125.) ('Morning', 125.)\n",
      " ('Afternoon', 126.) ('Night', 127.) ('Afternoon', 128.)\n",
      " ('Afternoon', 129.) ('Morning', 129.) ('Night', 129.) ('Night', 130.)\n",
      " ('Night', 131.) ('Afternoon', 132.) ('Night', 132.) ('Morning', 133.)\n",
      " ('Morning', 134.) ('Afternoon', 135.) ('Afternoon', 137.)\n",
      " ('Morning', 137.) ('Afternoon', 138.) ('Afternoon', 138.)\n",
      " ('Morning', 138.) ('Morning', 138.) ('Morning', 141.) ('Afternoon', 149.)\n",
      " ('Morning', 149.) ('Night', 149.)]\n",
      "ca lam viec co hieu suat cao nhat la:  Night\n",
      "cao nhat voi muc hieu suat la: 149.0\n",
      "ca lam viec co hieu suat thap nhat la:  Afternoon\n",
      "thap nhat voi muc hieu suat la: 50.0\n"
     ]
    }
   ],
   "source": [
    "sort_workers = np.sort(np_workers,order=\"efficiency\")\n",
    "print(sort_workers)\n",
    "print(\"ca lam viec co hieu suat cao nhat la: \",sort_workers[-1][0])\n",
    "print(\"cao nhat voi muc hieu suat la:\",sort_workers[-1][1])\n",
    "print(\"ca lam viec co hieu suat thap nhat la: \",sort_workers[0][0])\n",
    "print(\"thap nhat voi muc hieu suat la:\",sort_workers[0][1])"
   ]
  }
 ],
 "metadata": {
  "kernelspec": {
   "display_name": "base",
   "language": "python",
   "name": "python3"
  },
  "language_info": {
   "codemirror_mode": {
    "name": "ipython",
    "version": 3
   },
   "file_extension": ".py",
   "mimetype": "text/x-python",
   "name": "python",
   "nbconvert_exporter": "python",
   "pygments_lexer": "ipython3",
   "version": "3.11.4"
  }
 },
 "nbformat": 4,
 "nbformat_minor": 2
}
